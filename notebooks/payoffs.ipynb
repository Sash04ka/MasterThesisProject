{
 "cells": [
  {
   "cell_type": "code",
   "id": "initial_id",
   "metadata": {
    "collapsed": true,
    "ExecuteTime": {
     "end_time": "2025-04-22T21:28:30.678929Z",
     "start_time": "2025-04-22T21:28:30.541871Z"
    }
   },
   "source": [
    "from utils.bates_model import simulate_bates_paths\n",
    "from utils.payoffs import asian_call_payoff, barrier_call_payoff, lookback_call_payoff\n",
    "import numpy as np\n",
    "\n",
    "# Simulate paths\n",
    "S, _ = simulate_bates_paths(M=1000, N=252, T=1.0, seed=42)\n",
    "\n",
    "# Payoffs\n",
    "asian = asian_call_payoff(S, strike=100, r=0.0, T=1.0)\n",
    "barrier = barrier_call_payoff(S, strike=100, barrier=130, r=0.0, T=1.0)\n",
    "lookback = lookback_call_payoff(S, r=0.0, T=1.0)\n",
    "\n",
    "# Output results\n",
    "print(\"Asian option price:\", np.mean(asian))\n",
    "print(\"Barrier option price:\", np.mean(barrier))\n",
    "print(\"Lookback option price:\", np.mean(lookback))\n"
   ],
   "outputs": [
    {
     "name": "stdout",
     "output_type": "stream",
     "text": [
      "Asian option price: 4.541084275099968\n",
      "Barrier option price: 5.000432759025437\n",
      "Lookback option price: 14.697779344458363\n"
     ]
    }
   ],
   "execution_count": 1
  }
 ],
 "metadata": {
  "kernelspec": {
   "display_name": "Python 3",
   "language": "python",
   "name": "python3"
  },
  "language_info": {
   "codemirror_mode": {
    "name": "ipython",
    "version": 2
   },
   "file_extension": ".py",
   "mimetype": "text/x-python",
   "name": "python",
   "nbconvert_exporter": "python",
   "pygments_lexer": "ipython2",
   "version": "2.7.6"
  }
 },
 "nbformat": 4,
 "nbformat_minor": 5
}
